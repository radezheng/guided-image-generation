{
  "cells": [
    {
      "cell_type": "markdown",
      "metadata": {
        "nteract": {
          "transient": {
            "deleting": false
          }
        }
      },
      "source": [
        "## Deploy SDXL as Online Endpoint on Azure Machine Learning\n",
        "This notebook was developed and tested on an Azure ML Compute Instance using the `Python 3.10 - SDK V2` Jupyter kernel. "
      ]
    },
    {
      "cell_type": "code",
      "execution_count": 1,
      "metadata": {
        "gather": {
          "logged": 1709222553051
        }
      },
      "outputs": [],
      "source": [
        "# import required libraries\n",
        "from azure.ai.ml import MLClient\n",
        "from azure.ai.ml.entities import ManagedOnlineEndpoint, ManagedOnlineDeployment, Model, Environment, CodeConfiguration, OnlineRequestSettings \n",
        "from azure.identity import DefaultAzureCredential\n",
        "\n",
        "# enter details of your Azure Machine Learning workspace\n",
        "subscription_id = \"<Your Azure subscription ID>\"\n",
        "resource_group = \"<Name of the Resource Group that contains your Azure ML resource>\"\n",
        "workspace = \"<Name of your Azure ML Workspace>\""
      ]
    },
    {
      "cell_type": "code",
      "execution_count": 2,
      "metadata": {
        "gather": {
          "logged": 1709222553426
        }
      },
      "outputs": [],
      "source": [
        "ml_client = MLClient(DefaultAzureCredential(), subscription_id, resource_group, workspace)\n",
        "\n",
        "computes = ml_client.compute.list()"
      ]
    },
    {
      "cell_type": "code",
      "execution_count": 3,
      "metadata": {
        "gather": {
          "logged": 1709222558777
        }
      },
      "outputs": [
        {
          "data": {
            "text/plain": [
              "<azure.core.polling._poller.LROPoller at 0x7f50b482f3d0>"
            ]
          },
          "execution_count": 3,
          "metadata": {},
          "output_type": "execute_result"
        }
      ],
      "source": [
        "# Define an endpoint name\n",
        "endpoint_name = \"image-gen\"\n",
        "\n",
        "# create an online endpoint\n",
        "endpoint = ManagedOnlineEndpoint(\n",
        "    name = endpoint_name, \n",
        "    description=\"Stable Diffusion Models\",\n",
        "    auth_mode=\"key\"\n",
        ")\n",
        "\n",
        "ml_client.online_endpoints.begin_create_or_update(endpoint)"
      ]
    },
    {
      "cell_type": "code",
      "execution_count": 6,
      "metadata": {
        "gather": {
          "logged": 1709222705969
        }
      },
      "outputs": [],
      "source": [
        "endpoint.scoring_uri"
      ]
    },
    {
      "cell_type": "code",
      "execution_count": 7,
      "metadata": {
        "gather": {
          "logged": 1709222740562
        }
      },
      "outputs": [
        {
          "data": {
            "text/plain": [
              "Model({'job_name': None, 'intellectual_property': None, 'is_anonymous': False, 'auto_increment_version': False, 'auto_delete_setting': None, 'name': 'sd-dummy', 'description': 'A dummy model for SD deployment.', 'tags': {}, 'properties': {}, 'print_as_yaml': True, 'id': '/subscriptions/92645b1b-8a8a-4693-b8e2-c214a523fe40/resourceGroups/energy/providers/Microsoft.MachineLearningServices/workspaces/energy/models/sd-dummy/versions/13', 'Resource__source_path': None, 'base_path': '/mnt/batch/tasks/shared/LS_root/mounts/clusters/akopp1/code/Users/akopp', 'creation_context': <azure.ai.ml.entities._system_data.SystemData object at 0x7f50a93d9f60>, 'serialize': <msrest.serialization.Serializer object at 0x7f50a93d95d0>, 'version': '13', 'latest_version': None, 'path': 'azureml://subscriptions/92645b1b-8a8a-4693-b8e2-c214a523fe40/resourceGroups/energy/workspaces/energy/datastores/workspaceblobstore/paths/LocalUpload/5f9c2a69a8e7b55a6cac71baa26db1b6/dummy-model.txt', 'datastore': None, 'utc_time_created': None, 'flavors': None, 'arm_type': 'model_version', 'type': 'custom_model', 'stage': 'Development'})"
            ]
          },
          "execution_count": 7,
          "metadata": {},
          "output_type": "execute_result"
        }
      ],
      "source": [
        "from azure.ai.ml.constants import AssetTypes\n",
        "model_name = \"sd-dummy\" # dummy model for deployment. The actual SDXL model will automatically be downloaded by the scoring script\n",
        "\n",
        "model = Model(\n",
        "    path=\"assets/dummy-model.txt\",\n",
        "    type=AssetTypes.CUSTOM_MODEL,\n",
        "    name=model_name,\n",
        "    description=\"A dummy model for SD deployment.\",\n",
        ")\n",
        "ml_client.models.create_or_update(model)"
      ]
    },
    {
      "cell_type": "code",
      "execution_count": 8,
      "metadata": {
        "gather": {
          "logged": 1709222747106
        }
      },
      "outputs": [],
      "source": [
        "env = Environment(\n",
        "    conda_file=\"assets/conda.yaml\",\n",
        "    image=\"mcr.microsoft.com/azureml/curated/minimal-ubuntu20.04-py38-cuda11.6.2-gpu-inference:24\",\n",
        ")"
      ]
    },
    {
      "cell_type": "code",
      "execution_count": null,
      "metadata": {
        "gather": {
          "logged": 1709111576964
        }
      },
      "outputs": [],
      "source": [
        "req_timeout = OnlineRequestSettings(request_timeout_ms=90000, max_queue_wait_ms=900000)\n",
        "\n",
        "deployment = ManagedOnlineDeployment(\n",
        "    name='sdxl',\n",
        "    endpoint_name=endpoint_name,\n",
        "    model=model,\n",
        "    environment= env,\n",
        "    code_configuration = CodeConfiguration(code='assets', scoring_script='score.py'),\n",
        "    instance_type = 'Standard_NC24ads_A100_v4',\n",
        "    instance_count=1,\n",
        "    request_settings=req_timeout\n",
        ")\n",
        "\n",
        "ml_client.online_deployments.begin_create_or_update(deployment)"
      ]
    },
    {
      "cell_type": "code",
      "execution_count": 20,
      "metadata": {},
      "outputs": [
        {
          "data": {
            "text/plain": [
              "ManagedOnlineDeployment({'private_network_connection': None, 'provisioning_state': None, 'endpoint_name': 'energy-sd', 'type': 'Managed', 'name': 'blue', 'description': None, 'tags': {}, 'properties': {}, 'print_as_yaml': True, 'id': None, 'Resource__source_path': None, 'base_path': '/mnt/batch/tasks/shared/LS_root/mounts/clusters/akopp-gpu/code/Users/akopp', 'creation_context': None, 'serialize': <msrest.serialization.Serializer object at 0x7fef04176e60>, 'model': '/subscriptions/92645b1b-8a8a-4693-b8e2-c214a523fe40/resourceGroups/energy/providers/Microsoft.MachineLearningServices/workspaces/energy/models/sd-dummy/versions/1', 'code_configuration': {'code': '/subscriptions/92645b1b-8a8a-4693-b8e2-c214a523fe40/resourceGroups/energy/providers/Microsoft.MachineLearningServices/workspaces/energy/codes/14f82306-2ec7-4346-87d5-29515858b5aa/versions/1'}, 'environment': '/subscriptions/92645b1b-8a8a-4693-b8e2-c214a523fe40/resourceGroups/energy/providers/Microsoft.MachineLearningServices/workspaces/energy/environments/CliV2AnonymousEnvironment/versions/5617085f4f5812b00ffa539d84ba41c2', 'environment_variables': {}, 'app_insights_enabled': False, 'scale_settings': None, 'request_settings': <azure.ai.ml.entities._deployment.deployment_settings.OnlineRequestSettings object at 0x7fef04177460>, 'liveness_probe': None, 'readiness_probe': None, 'instance_count': 1, 'arm_type': 'online_deployment', 'model_mount_path': None, 'instance_type': 'Standard_NC6s_v3', 'data_collector': None, 'egress_public_network_access': None})"
            ]
          },
          "execution_count": 20,
          "metadata": {},
          "output_type": "execute_result"
        },
        {
          "name": "stdout",
          "output_type": "stream",
          "text": [
            "...................................................................................................................................................................................................................................................................................................................."
          ]
        }
      ],
      "source": [
        "deployment"
      ]
    },
    {
      "cell_type": "code",
      "execution_count": null,
      "metadata": {},
      "outputs": [],
      "source": []
    }
  ],
  "metadata": {
    "kernel_info": {
      "name": "python310-sdkv2"
    },
    "kernelspec": {
      "display_name": "Python 3.10 - SDK v2",
      "language": "python",
      "name": "python310-sdkv2"
    },
    "language_info": {
      "codemirror_mode": {
        "name": "ipython",
        "version": 3
      },
      "file_extension": ".py",
      "mimetype": "text/x-python",
      "name": "python",
      "nbconvert_exporter": "python",
      "pygments_lexer": "ipython3",
      "version": "3.10.11"
    },
    "microsoft": {
      "host": {
        "AzureML": {
          "notebookHasBeenCompleted": true
        }
      },
      "ms_spell_check": {
        "ms_spell_check_language": "en"
      }
    },
    "nteract": {
      "version": "nteract-front-end@1.0.0"
    }
  },
  "nbformat": 4,
  "nbformat_minor": 2
}
